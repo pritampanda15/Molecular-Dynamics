{
  "nbformat": 4,
  "nbformat_minor": 0,
  "metadata": {
    "colab": {
      "name": "thefluidisonthelayer.ipynb",
      "provenance": [],
      "include_colab_link": true
    },
    "kernelspec": {
      "name": "python3",
      "display_name": "Python 3"
    },
    "language_info": {
      "name": "python"
    }
  },
  "cells": [
    {
      "cell_type": "markdown",
      "metadata": {
        "id": "view-in-github",
        "colab_type": "text"
      },
      "source": [
        "<a href=\"https://colab.research.google.com/github/pritampanda15/Molecular-Dynamics/blob/master/thefluidisonthelayer.ipynb\" target=\"_parent\"><img src=\"https://colab.research.google.com/assets/colab-badge.svg\" alt=\"Open In Colab\"/></a>"
      ]
    },
    {
      "cell_type": "markdown",
      "metadata": {
        "id": "R1vYnIiCW2AT"
      },
      "source": [
        "#Setup and libraries"
      ]
    },
    {
      "cell_type": "code",
      "metadata": {
        "id": "vVsvapEWViMx"
      },
      "source": [
        "%%capture\n",
        "!pip install ase\n",
        "\n",
        "import numpy as np\n",
        "import matplotlib.pyplot as plt\n",
        "import collections\n",
        "import glob\n",
        "from ase import Atoms\n",
        "from ase.io import read\n",
        "from ase.build import molecule\n",
        "from ase.collections import g2\n",
        "from ase.visualize.plot import plot_atoms\n",
        "from google.colab import files"
      ],
      "execution_count": null,
      "outputs": []
    },
    {
      "cell_type": "markdown",
      "metadata": {
        "id": "9c84WVX-X1oo"
      },
      "source": [
        "# Basic definitions"
      ]
    },
    {
      "cell_type": "markdown",
      "metadata": {
        "id": "zFy8dX7oX_Kx"
      },
      "source": [
        "## Plot inside colab"
      ]
    },
    {
      "cell_type": "code",
      "metadata": {
        "id": "ggnO_7L3X4KL"
      },
      "source": [
        "\n",
        "def plot(structure, rot='45x,45y,30z'):\n",
        "  fig, ax = plt.subplots(figsize=(10, 8))\n",
        "  plot_atoms(structure, ax, rotation=str(rot))\n",
        "  plt.show()"
      ],
      "execution_count": null,
      "outputs": []
    },
    {
      "cell_type": "markdown",
      "metadata": {
        "id": "U6hCtowEcv8Q"
      },
      "source": [
        "## H$_x$O"
      ]
    },
    {
      "cell_type": "code",
      "metadata": {
        "id": "p8JZd1KqcvFX"
      },
      "source": [
        "def SingleMolecule(mol):\n",
        "  mol = mol.lower()\n",
        "\n",
        "  #------------\n",
        "  #     H2O\n",
        "  #------------\n",
        "  if mol == 'h2o':\n",
        "    water = Atoms('OH2',\n",
        "                  positions = [[0.57710052, 0.46538227, 1.],\n",
        "                               [1.67552173, 0.48890523, 1.],\n",
        "                               [0.32447827, 1.534661773, 1.]],\n",
        "                  charges = [-0.8476,\n",
        "                             0.4238, \n",
        "                             0.4238,],\n",
        "                  masses = [15.999,\n",
        "                            1.0078,\n",
        "                            1.0078]\n",
        "                  )\n",
        "    return water\n",
        "\n",
        "  #-------------\n",
        "  #     OH3\n",
        "  #-------------\n",
        "  elif mol == 'oh3':\n",
        "    oh3 = Atoms('OH3', \n",
        "                positions = [[1.000045, 0.763688, 1.148465],\n",
        "                             [1.000045, 1.708936, 0.851535],\n",
        "                             [1.818653, 0.291064, 0.851535],\n",
        "                             [0.181347, 0.291064, 0.851535]],\n",
        "                charges = [-0.87, \n",
        "                           0.29,\n",
        "                           0.29,\n",
        "                           0.29],\n",
        "                masses = [15.999,\n",
        "                          1.0078,\n",
        "                          1.0078,\n",
        "                          1.0078])\n",
        "    return oh3\n",
        "\n",
        "  #------------\n",
        "  #     OH\n",
        "  #------------\n",
        "  elif mol == 'oh':\n",
        "    oh = Atoms('OH', \n",
        "               positions =[[1.15615685, 1., 1.],\n",
        "                           [0.48384314, 1. ,1.]],\n",
        "               charges = [-0.4238,\n",
        "                          0.4238],\n",
        "               masses = [15.999,\n",
        "                         1.0078]\n",
        "               )\n",
        "    return oh\n"
      ],
      "execution_count": null,
      "outputs": []
    },
    {
      "cell_type": "markdown",
      "metadata": {
        "id": "DWDxhInOBWDE"
      },
      "source": [
        "## Graphene"
      ]
    },
    {
      "cell_type": "code",
      "metadata": {
        "id": "JZ_2y55jBX0D"
      },
      "source": [
        "def graphene(a = 2.468, h=0, z=100):\n",
        "  \"\"\"\n",
        "  a = parametro de rede\n",
        "  h = posição Z da camada de grafeno\n",
        "  z = tamanho da caixa de simulação na direção Z \n",
        "  \"\"\"\n",
        "  graphene = Atoms('C4',\n",
        "                   positions = [\n",
        "                                #grafeno\n",
        "                                [a*0.0, a*0.0, h],\n",
        "                                [a*0.5, a*np.sqrt(3)/6, h],\n",
        "                                [a*0.5, a*np.sqrt(3)/2, h],\n",
        "                                [a*0., a*2*np.sqrt(3)/3, h]\n",
        "                                ],\n",
        "                   charges = [0, 0, 0, 0,],\n",
        "                   masses = [12.0107,12.0107,12.0107,12.0107],\n",
        "                   cell=[\n",
        "                         [a*1, 0, 0],\n",
        "                         [0., a*np.sqrt(3), 0],\n",
        "                         [0., 0., z]\n",
        "                         ])\n",
        "  return graphene"
      ],
      "execution_count": null,
      "outputs": []
    },
    {
      "cell_type": "markdown",
      "metadata": {
        "id": "c-R_K2wIlgYz"
      },
      "source": [
        "## Fill"
      ]
    },
    {
      "cell_type": "code",
      "metadata": {
        "id": "6XRbEfK_leZy"
      },
      "source": [
        "def fill(structure, fillup=1, seed=10):\n",
        "\n",
        "  np.random.seed(seed)\n",
        "\n",
        "  #Molecules and charge\n",
        "  charges = {\"H2O\": [-0.8476, 0.4238, 0.4238], \n",
        "             \"Na\": [+1],\n",
        "             \"Cl\": [-1],\n",
        "             \"OH\": [-0.42381, 0.42381],\n",
        "             \"OH3\": [-0.87, 0.29, 0.29, 0.29]\n",
        "             }\n",
        "             \n",
        "  molecules = list(charges)\n",
        "  #Probabilities of molecules            \n",
        "  probs = [0.84, \n",
        "           0.04, \n",
        "           0.04, \n",
        "           0.04, \n",
        "           0.04\n",
        "           ]\n",
        "\n",
        "  #length of x\n",
        "  xmin, xmax = np.min(structure.get_positions()[:,0]), np.max(structure.get_positions()[:,0]) \n",
        "  lx =  xmax - xmin \n",
        "\n",
        "  #length of y\n",
        "  ymin, ymax = np.min(structure.get_positions()[:,1]), np.max(structure.get_positions()[:,1]) \n",
        "  ly =  ymax - ymin   \n",
        "\n",
        "  #high\n",
        "  zmax, z = np.unique(structure.get_positions()[:,2])[-2], structure.get_cell()[2,2]\n",
        "  h = z- zmax\n",
        "\n",
        "  #Unit cell\n",
        "  #a,b,c = 3.4, 3.4, 3.4\n",
        "  a,b,c = 2.991, 2.991, 2.991\n",
        "\n",
        "  # Simulation box size:\n",
        "  # a*nx, b*ny, c*nz\n",
        "  nx, ny, nz = int(lx/a), int(ly/b), int(h*fillup/c)\n",
        "\n",
        "  #Molecular base\n",
        "  base = Atoms()\n",
        "\n",
        "  #get tag for molecules\n",
        "  count_tag = np.max(np.unique(structure.get_tags())) + 1\n",
        " \n",
        "  #rotation angle\n",
        "  rotation = np.arange(0,360, 15)\n",
        "\n",
        "  molecules_selected = []\n",
        "\n",
        "  #Begin Loop\n",
        "  for xi in range(nx):\n",
        "    for yi in range(ny):\n",
        "      for zi in range(nz):\n",
        "\n",
        "        #Select ions/molecules\n",
        "        ions = np.random.choice(molecules, p=probs)\n",
        "        molecules_selected.append(ions)\n",
        "\n",
        "\n",
        "\n",
        "        #Creating ions/molecules\n",
        "        if ions in [\"H2O\", \"OH\", \"OH3\"]:\n",
        "          mol = SingleMolecule(str(ions))        \n",
        "        else:\n",
        "          mol = molecule(str(ions))\n",
        "\n",
        "        \n",
        "        #Setting charges\n",
        "        mol.set_initial_charges(charges[str(ions)])\n",
        "        \n",
        "        #Rotation\n",
        "        ang = np.random.choice(rotation, 3)\n",
        "        ang1, ang2, ang3 = ang[0], ang[1], ang[2]\n",
        "       \n",
        "        #set cell   \n",
        "        mol.set_cell([a,b,c])\n",
        "        #molecule rotation \n",
        "        mol.euler_rotate(ang1, ang2, ang3)\n",
        "        mol.center()\n",
        "        #translation\n",
        "        mol.translate([a*xi, b*yi, zmax+5.5+c*zi])\n",
        "        \n",
        "        #add  tag\n",
        "        count_tag += 1\n",
        "        mol.set_tags(int(count_tag))\n",
        "        \n",
        "        base.extend(mol)\n",
        "\n",
        "  #adding molecules     \n",
        "  structure.extend(base)\n",
        "  \n",
        "  #checking\n",
        "  print(collections.Counter(molecules_selected))\n",
        "  plt.hist(molecules_selected)\n",
        "  plt.show()\n",
        "  \n",
        "  return structure"
      ],
      "execution_count": null,
      "outputs": []
    },
    {
      "cell_type": "markdown",
      "metadata": {
        "id": "ceUFb9IBnqv2"
      },
      "source": [
        "## Select Ions to remove"
      ]
    },
    {
      "cell_type": "code",
      "metadata": {
        "id": "YgmqXqLJnwjf"
      },
      "source": [
        "def remove_ions(structure, ion1, ion2):\n",
        "  count_atoms = collections.Counter(structure.get_chemical_symbols())\n",
        "  \n",
        "  if count_atoms[str(ion1)] > count_atoms[str(ion2)]:\n",
        "    n_remove = count_atoms[str(ion1)] - count_atoms[str(ion2)]\n",
        "    ion = str(ion1)\n",
        "  else:\n",
        "    n_remove = count_atoms[str(ion2)] - count_atoms[str(ion1)]\n",
        "    ion = str(ion2)\n",
        "  \n",
        "  ions_to_remove = []\n",
        "  for i in structure:\n",
        "    if i.symbol == ion:\n",
        "      ions_to_remove.append(i.index)\n",
        "  \n",
        "  del ions_to_remove[n_remove:]\n",
        "  return ions_to_remove"
      ],
      "execution_count": null,
      "outputs": []
    },
    {
      "cell_type": "markdown",
      "metadata": {
        "id": "2Z3pGqWKoKkJ"
      },
      "source": [
        "## Remove Ions"
      ]
    },
    {
      "cell_type": "code",
      "metadata": {
        "id": "f5zVZuhgoE8d"
      },
      "source": [
        "def remove(structure, atoms_to_remove):\n",
        "  count = 0\n",
        "  for i in atoms_to_remove:\n",
        "    del structure[i-count]\n",
        "    count += 1"
      ],
      "execution_count": null,
      "outputs": []
    },
    {
      "cell_type": "markdown",
      "metadata": {
        "id": "9kuOEeONYjkN"
      },
      "source": [
        "# System "
      ]
    },
    {
      "cell_type": "markdown",
      "metadata": {
        "id": "mnSmIO1ul7Y3"
      },
      "source": [
        "## Importing xyz"
      ]
    },
    {
      "cell_type": "code",
      "metadata": {
        "id": "pzV3lmK4YnrW",
        "colab": {
          "resources": {
            "http://localhost:8080/nbextensions/google.colab/files.js": {
              "data": "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",
              "ok": true,
              "headers": [
                [
                  "content-type",
                  "application/javascript"
                ]
              ],
              "status": 200,
              "status_text": ""
            }
          },
          "base_uri": "https://localhost:8080/",
          "height": 143
        },
        "outputId": "aeee52b6-3f06-4846-eb9c-5163622241be"
      },
      "source": [
        "#importing xyz files\n",
        "layers = []\n",
        "\n",
        "if len(glob.glob('*.xyz')) == 0:\n",
        "  \n",
        "  upload_files = files.upload()\n",
        "  \n",
        "  for file in glob.glob('*.xyz'):\n",
        "    layers.append(file)\n",
        "\n",
        "else:\n",
        "  \n",
        "  for file in glob.glob('*.xyz'):\n",
        "    layers.append(file)"
      ],
      "execution_count": null,
      "outputs": [
        {
          "output_type": "display_data",
          "data": {
            "text/html": [
              "\n",
              "     <input type=\"file\" id=\"files-4a5c5cbd-470f-43ea-98d0-c7fc290edf8a\" name=\"files[]\" multiple disabled\n",
              "        style=\"border:none\" />\n",
              "     <output id=\"result-4a5c5cbd-470f-43ea-98d0-c7fc290edf8a\">\n",
              "      Upload widget is only available when the cell has been executed in the\n",
              "      current browser session. Please rerun this cell to enable.\n",
              "      </output>\n",
              "      <script src=\"/nbextensions/google.colab/files.js\"></script> "
            ],
            "text/plain": [
              "<IPython.core.display.HTML object>"
            ]
          },
          "metadata": {}
        },
        {
          "output_type": "stream",
          "name": "stdout",
          "text": [
            "Saving Ai-cubic.xyz to Ai-cubic.xyz\n",
            "Saving Aln3nm.xyz to Aln3nm.xyz\n",
            "Saving GaNcubic.xyz to GaNcubic.xyz\n"
          ]
        }
      ]
    },
    {
      "cell_type": "code",
      "metadata": {
        "colab": {
          "base_uri": "https://localhost:8080/"
        },
        "id": "3VsPsGJsP6FN",
        "outputId": "a4baf12b-f346-4ad3-af8e-947c15a5b33d"
      },
      "source": [
        "layers"
      ],
      "execution_count": null,
      "outputs": [
        {
          "output_type": "execute_result",
          "data": {
            "text/plain": [
              "['Aln3nm.xyz', 'GaNcubic.xyz', 'Ai-cubic.xyz']"
            ]
          },
          "metadata": {},
          "execution_count": 9
        }
      ]
    },
    {
      "cell_type": "markdown",
      "metadata": {
        "id": "ExRfeqHll_zv"
      },
      "source": [
        "## Building system"
      ]
    },
    {
      "cell_type": "markdown",
      "metadata": {
        "id": "CQYXqYM1qvzL"
      },
      "source": [
        "### Layer"
      ]
    },
    {
      "cell_type": "code",
      "metadata": {
        "id": "FNW9A39r8bY9"
      },
      "source": [
        "#-------------------\n",
        "#Creating layer\n",
        "#-------------------\n",
        "layer = read(layers[0])\n",
        "\n",
        "#Creating supercell\n",
        "layer = layer.repeat([2,2,1])\n",
        "\n",
        "#setting tag\n",
        "layer.set_tags(1)\n",
        "\n",
        "#Redefining unit cell\n",
        "cell = layer.get_cell()\n",
        "cell[2][2] = 2*cell[2][2]\n",
        "\n",
        "#set new unit cell\n",
        "layer.set_cell(cell)"
      ],
      "execution_count": null,
      "outputs": []
    },
    {
      "cell_type": "code",
      "metadata": {
        "id": "ZNEF6_wCjQ0g"
      },
      "source": [
        "#Set charges\n",
        "if 'Ga' in np.unique(layer.symbols):\n",
        "  for i in layer:\n",
        "    if i.symbol == \"Ga\":\n",
        "      i.charge = +3\n",
        "    elif i.symbol == \"N\":\n",
        "      i.charge = -3\n",
        "elif 'Al' in np.unique(layer.symbols):\n",
        "  for i in layer:\n",
        "    if i.symbol == \"Al\":\n",
        "      i.charge = +0.32\n",
        "    elif i.symbol == \"N\":\n",
        "      i.charge = -0.32\n",
        "elif \"Si\" in np.unique(layer.symbols):\n",
        "  for i in layer:\n",
        "    i.charge = 0"
      ],
      "execution_count": null,
      "outputs": []
    },
    {
      "cell_type": "markdown",
      "metadata": {
        "id": "yI4mqTzaqyrU"
      },
      "source": [
        "### Graphene"
      ]
    },
    {
      "cell_type": "code",
      "metadata": {
        "id": "w9-JiHol-156"
      },
      "source": [
        "#-------------------\n",
        "#Creating Graphene\n",
        "#-------------------\n",
        "gr = graphene()\n",
        "\n",
        "#Graphene's repetition\n",
        "ax = int(cell[0][0]/2.468)\n",
        "ay = int(cell[1][1]/(2.468*np.sqrt(3)))\n",
        "\n",
        "#Supercell\n",
        "gr = gr.repeat([ax,ay,1])\n",
        "\n",
        "#Redefinig unit cell\n",
        "gr.set_cell(cell)\n",
        "\n",
        "gr.center()\n",
        "gr.translate([0,0,cell[2][2]/2 + 5])\n",
        "\n",
        "#Setting tag\n",
        "gr.set_tags(2)\n",
        "\n",
        "layer.extend(gr)"
      ],
      "execution_count": null,
      "outputs": []
    },
    {
      "cell_type": "markdown",
      "metadata": {
        "id": "tZ8q1902q1D_"
      },
      "source": [
        "### Water and ions"
      ]
    },
    {
      "cell_type": "code",
      "metadata": {
        "colab": {
          "base_uri": "https://localhost:8080/",
          "height": 321
        },
        "id": "nZkscGsVc5q-",
        "outputId": "9c456138-3498-4597-b837-f4409536655d"
      },
      "source": [
        "#Fill with water and ions\n",
        "fill(layer, seed=10)"
      ],
      "execution_count": null,
      "outputs": [
        {
          "output_type": "stream",
          "name": "stdout",
          "text": [
            "Counter({'H2O': 5291, 'OH3': 271, 'Na': 256, 'OH': 242, 'Cl': 240})\n"
          ]
        },
        {
          "output_type": "display_data",
          "data": {
            "image/png": "[encoded data removed]",
            "text/plain": [
              "<Figure size 432x288 with 1 Axes>"
            ]
          },
          "metadata": {
            "needs_background": "light"
          }
        },
        {
          "output_type": "execute_result",
          "data": {
            "text/plain": [
              "Atoms(symbols='C1500H11637Al1920Cl240N1920Na256O5804', pbc=True, cell=[62.571759224000004, 65.02648544339999, 56.0678215026], initial_charges=..., initial_magmoms=..., masses=..., tags=...)"
            ]
          },
          "metadata": {},
          "execution_count": 35
        }
      ]
    },
    {
      "cell_type": "markdown",
      "metadata": {
        "id": "7xArW9Q6q421"
      },
      "source": [
        "### Make it neutral"
      ]
    },
    {
      "cell_type": "code",
      "metadata": {
        "id": "5vZPgc3Job8D"
      },
      "source": [
        "## Remove extra ions\n",
        "NaCl = remove_ions(layer, 'Na', 'Cl')\n",
        "remove(layer, NaCl)"
      ],
      "execution_count": null,
      "outputs": []
    },
    {
      "cell_type": "code",
      "metadata": {
        "colab": {
          "base_uri": "https://localhost:8080/",
          "height": 301
        },
        "id": "Xsv9Rq20o9sR",
        "outputId": "6d4f5b48-d037-4e5f-cf37-b23fd23d424b"
      },
      "source": [
        "#Checkin if the system is neutral\n",
        "print(collections.Counter(layer.get_chemical_symbols()))\n",
        "plt.hist(layer.get_chemical_symbols())\n",
        "plt.show()\n",
        "\n",
        "print(np.sum(layer.get_initial_charges()))"
      ],
      "execution_count": null,
      "outputs": [
        {
          "output_type": "stream",
          "name": "stdout",
          "text": [
            "Counter({'H': 11637, 'O': 5804, 'N': 1920, 'Al': 1920, 'C': 1500, 'Cl': 240, 'Na': 240})\n"
          ]
        },
        {
          "output_type": "display_data",
          "data": {
            "image/png": "[encoded data removed]",
            "text/plain": [
              "<Figure size 432x288 with 1 Axes>"
            ]
          },
          "metadata": {
            "needs_background": "light"
          }
        },
        {
          "output_type": "stream",
          "name": "stdout",
          "text": [
            "-4.263256414560601e-14\n"
          ]
        }
      ]
    },
    {
      "cell_type": "code",
      "metadata": {
        "id": "kUX6UhblkiBg"
      },
      "source": [
        "#plot(layer.repeat([2,2,1]),rot='0x,0y,0z')\n",
        "#plot(layer)"
      ],
      "execution_count": null,
      "outputs": []
    },
    {
      "cell_type": "markdown",
      "metadata": {
        "id": "L7fLjtC4lrwx"
      },
      "source": [
        "## Write Lammmps"
      ]
    },
    {
      "cell_type": "markdown",
      "metadata": {
        "id": "HQOai8pG5j5v"
      },
      "source": [
        "### Function to write"
      ]
    },
    {
      "cell_type": "code",
      "metadata": {
        "id": "rmhqSSwgYyvb"
      },
      "source": [
        "def write_lammps(structure):\n",
        "  \n",
        "  #Arquivos auxiliares\n",
        "  c = open('coordinates.dat', mode='w')\n",
        "  b = open('bonds.dat', mode='w')\n",
        "  a = open('angles.dat', mode='w')\n",
        "  #Arquivo Principal\n",
        "  f = open('system.data', mode='w')\n",
        "\n",
        "  c.write(\"\"\"\\nAtoms \\n\\\n",
        "\\n\"\"\")\n",
        "  b.write(\"\"\"\\nBonds \\n\\\n",
        "\\n\"\"\")\n",
        "  a.write(\"\"\"\\nAngles \\n\\\n",
        "\\n\"\"\")\n",
        "  \n",
        "\n",
        "  count_bonds = 1\n",
        "  count_angles = 1\n",
        "\n",
        "  if 'Ga' in np.unique(structure.symbols):\n",
        "    #Escrevendo\n",
        "    for i in structure:\n",
        "\n",
        "      #Selecionando os átomos\n",
        "      if i.tag == 1: #layer\n",
        "        if i.symbol == \"Ga\":\n",
        "          atm_type = 1\n",
        "        elif i.symbol == \"N\":\n",
        "          atm_type = 2\n",
        "\n",
        "      elif i.tag == 2: #Graphene\n",
        "        atm_type = 3 #C\n",
        "\n",
        "      #Ions\n",
        "      elif i.symbol == \"Na\":\n",
        "        atm_type = 4 #Na\n",
        "      elif i.symbol == \"Cl\":\n",
        "        atm_type = 5 #Cl\n",
        "    \n",
        "      #--------------------------\n",
        "      # H2O\n",
        "      #--------------------------\n",
        "      elif i.tag > 2 and i.symbol == \"H\" and i.charge == 0.4238:\n",
        "        atm_type = 6 #H H2O\n",
        "      elif i.tag > 2 and i.symbol == \"O\" and i.charge == -0.8476:\n",
        "        atm_type = 7 #O H2O\n",
        "\n",
        "        #--------------------------\n",
        "        #     Ligações\n",
        "        #--------------------------\n",
        "            #ID #Type #O #H1\n",
        "        b.write(\"\"\"{0} {1} {2} {3}\\n\"\"\".format(count_bonds,\n",
        "                                              1,\n",
        "                                              i.index+1,\n",
        "                                              i.index+2))\n",
        "        count_bonds += 1\n",
        "      \n",
        "        #ID #Type #O #H2\n",
        "        b.write(\"\"\"{0} {1} {2} {3}\\n\"\"\".format(count_bonds,\n",
        "                                              1,\n",
        "                                              i.index+1,\n",
        "                                              i.index+3))\n",
        "        count_bonds += 1\n",
        "      \n",
        "        #---------------------\n",
        "        #       Angulos\n",
        "        #---------------------\n",
        "        #ID #Type #H1 #O #H2\n",
        "        a.write(\"\"\"{0} {1} {2} {3} {4}\\n\"\"\".format(count_angles,\n",
        "                                                  1,\n",
        "                                                  i.index+2, \n",
        "                                                  i.index+1,\n",
        "                                                  i.index+3))\n",
        "        count_angles += 1\n",
        "\n",
        "\n",
        "      #--------------------------\n",
        "      # OH3\n",
        "      #--------------------------\n",
        "\n",
        "      elif i.tag > 2 and i.symbol == \"H\" and i.charge == 0.29:\n",
        "        atm_type = 8 #H OH3\n",
        "      elif i.tag > 2 and i.symbol == \"O\" and i.charge == -0.87:\n",
        "        atm_type = 9 #O OH3\n",
        "\n",
        "        #--------------------------\n",
        "        #     Ligações\n",
        "        #--------------------------\n",
        "        #ID #Type #O #H1\n",
        "        b.write(\"\"\"{0} {1} {2} {3}\\n\"\"\".format(count_bonds,\n",
        "                                              2,\n",
        "                                              i.index+1,\n",
        "                                              i.index+2))\n",
        "        count_bonds += 1\n",
        "      \n",
        "        #ID #Type #O #H2\n",
        "        b.write(\"\"\"{0} {1} {2} {3}\\n\"\"\".format(count_bonds,\n",
        "                                              2,\n",
        "                                              i.index+1,\n",
        "                                              i.index+3))\n",
        "        count_bonds += 1\n",
        "\n",
        "        #ID #Type #O #H3\n",
        "        b.write(\"\"\"{0} {1} {2} {3}\\n\"\"\".format(count_bonds,\n",
        "                                              2,\n",
        "                                              i.index+1,\n",
        "                                              i.index+4))\n",
        "        count_bonds += 1\n",
        "\n",
        "      \n",
        "        #---------------------\n",
        "        #       Angulos\n",
        "        #---------------------\n",
        "        #ID #Type #H1 #O #H2\n",
        "        a.write(\"\"\"{0} {1} {2} {3} {4}\\n\"\"\".format(count_angles,\n",
        "                                                  2,\n",
        "                                                  i.index+2, \n",
        "                                                  i.index+1,\n",
        "                                                  i.index+3))\n",
        "        count_angles += 1\n",
        "\n",
        "        #ID #Type #H1 #O #H2\n",
        "        a.write(\"\"\"{0} {1} {2} {3} {4}\\n\"\"\".format(count_angles,\n",
        "                                                  2,\n",
        "                                                  i.index+3, \n",
        "                                                  i.index+1,\n",
        "                                                  i.index+4))\n",
        "        count_angles += 1\n",
        "\n",
        "      #-------------------------------\n",
        "      # OH\n",
        "      #-------------------------------\n",
        "      elif i.tag > 2 and i.symbol == \"H\" and i.charge == +0.42381:\n",
        "        atm_type = 10 #H OH \n",
        "      elif i.tag > 2 and i.symbol == \"O\" and i.charge == -0.42381:\n",
        "        atm_type = 11 #O OH \n",
        "\n",
        "        #--------------------------\n",
        "        #     Ligações\n",
        "        #--------------------------\n",
        "        #ID #Type #O #H\n",
        "        b.write(\"\"\"{0} {1} {2} {3}\\n\"\"\".format(count_bonds,\n",
        "                                              3,\n",
        "                                              i.index+1,\n",
        "                                              i.index+2))\n",
        "        count_bonds += 1\n",
        "   \n",
        "      #-----------------------------------\n",
        "      # Escrevendo as coordenadas atomicas\n",
        "      #-----------------------------------\n",
        "      #ID #MOL #ATM #CHARGE #X #Y #Z\n",
        "      c.write(\"\"\"{0} {1} {2} {3} {4} {5} {6}\\n\"\"\".format(i.index+1, \n",
        "                                                         i.tag, \n",
        "                                                         atm_type,\n",
        "                                                         i.charge,\n",
        "                                                         i.position[0],\n",
        "                                                         i.position[1],\n",
        "                                                         i.position[2]))\n",
        " \n",
        "\n",
        "    f.write(\"\"\"#H2O + membranes \\n\\\n",
        "\\n\\\n",
        "{0}   atoms \\n\\\n",
        "{1}   bonds  \\n\\\n",
        "{2}   angles \\n\\\n",
        "\\n\"\"\".format(len(structure),\n",
        "             count_bonds-1,\n",
        "             count_angles-1))\n",
        "    \n",
        "    f.write(\"\"\"11    atom types \\n\\\n",
        "3    bond types \\n\\\n",
        "2    angle types \\n\\\n",
        "\\n\"\"\")\n",
        "    \n",
        "    f.write(\"\"\"0.0 {0} xlo xhi \\n\\\n",
        "0.0 {1} ylo yhi \\n\\\n",
        "{2} {3} zlo zhi \\n\\\n",
        "\\n\"\"\".format(structure.get_cell()[0][0],\n",
        "             structure.get_cell()[1][1],\n",
        "             np.min(structure.get_positions()[:,2]),\n",
        "             np.max(structure.get_positions()[:,2]+100)))\n",
        "    \n",
        "    f.write(\"\"\"Masses \\n\\\n",
        "\\n\\\n",
        "1 69.723   # Ga layer \\n\\\n",
        "2 14.006   # N layer \\n\\\n",
        "3 12.010   # C graphene \\n\\\n",
        "4 22.989   # Na ion \\n\\\n",
        "5 35.453   # Cl ion \\n\\\n",
        "6 1.007    # H H2O \\n\\\n",
        "7 15.999   # O H2O \\n\\\n",
        "8 1.007    # H OH3 \\n\\\n",
        "9 15.999   # O OH3 \\n\\\n",
        "10 1.007    # H OH \\n\\\n",
        "11 15.999   # O OH \\n\\\n",
        "\\n\"\"\")\n",
        "  elif \"Al\" in np.unique(structure.symbols):\n",
        "    #Escrevendo\n",
        "    for i in structure:\n",
        "\n",
        "      #Selecionando os átomos\n",
        "      if i.tag == 1: #layer\n",
        "        if i.symbol == \"Al\":\n",
        "          atm_type = 1\n",
        "        elif i.symbol == \"N\":\n",
        "          atm_type = 2\n",
        "\n",
        "      elif i.tag == 2: #Graphene\n",
        "        atm_type = 3 #C\n",
        "\n",
        "      #Ions\n",
        "      elif i.symbol == \"Na\":\n",
        "        atm_type = 4 #Na\n",
        "      elif i.symbol == \"Cl\":\n",
        "        atm_type = 5 #Cl\n",
        "    \n",
        "      #--------------------------\n",
        "      # H2O\n",
        "      #--------------------------\n",
        "      elif i.tag > 2 and i.symbol == \"H\" and i.charge == 0.4238:\n",
        "        atm_type = 6 #H H2O\n",
        "      elif i.tag > 2 and i.symbol == \"O\" and i.charge == -0.8476:\n",
        "        atm_type = 7 #O H2O\n",
        "\n",
        "        #--------------------------\n",
        "        #     Ligações\n",
        "        #--------------------------\n",
        "            #ID #Type #O #H1\n",
        "        b.write(\"\"\"{0} {1} {2} {3}\\n\"\"\".format(count_bonds,\n",
        "                                              1,\n",
        "                                              i.index+1,\n",
        "                                              i.index+2))\n",
        "        count_bonds += 1\n",
        "      \n",
        "        #ID #Type #O #H2\n",
        "        b.write(\"\"\"{0} {1} {2} {3}\\n\"\"\".format(count_bonds,\n",
        "                                              1,\n",
        "                                              i.index+1,\n",
        "                                              i.index+3))\n",
        "        count_bonds += 1\n",
        "      \n",
        "        #---------------------\n",
        "        #       Angulos\n",
        "        #---------------------\n",
        "        #ID #Type #H1 #O #H2\n",
        "        a.write(\"\"\"{0} {1} {2} {3} {4}\\n\"\"\".format(count_angles,\n",
        "                                                  1,\n",
        "                                                  i.index+2, \n",
        "                                                  i.index+1,\n",
        "                                                  i.index+3))\n",
        "        count_angles += 1\n",
        "\n",
        "\n",
        "      #--------------------------\n",
        "      # OH3\n",
        "      #--------------------------\n",
        "\n",
        "      elif i.tag > 2 and i.symbol == \"H\" and i.charge == 0.29:\n",
        "        atm_type = 8 #H OH3\n",
        "      elif i.tag > 2 and i.symbol == \"O\" and i.charge == -0.87:\n",
        "        atm_type = 9 #O OH3\n",
        "\n",
        "        #--------------------------\n",
        "        #     Ligações\n",
        "        #--------------------------\n",
        "        #ID #Type #O #H1\n",
        "        b.write(\"\"\"{0} {1} {2} {3}\\n\"\"\".format(count_bonds,\n",
        "                                              2,\n",
        "                                              i.index+1,\n",
        "                                              i.index+2))\n",
        "        count_bonds += 1\n",
        "      \n",
        "        #ID #Type #O #H2\n",
        "        b.write(\"\"\"{0} {1} {2} {3}\\n\"\"\".format(count_bonds,\n",
        "                                              2,\n",
        "                                              i.index+1,\n",
        "                                              i.index+3))\n",
        "        count_bonds += 1\n",
        "\n",
        "        #ID #Type #O #H3\n",
        "        b.write(\"\"\"{0} {1} {2} {3}\\n\"\"\".format(count_bonds,\n",
        "                                              2,\n",
        "                                              i.index+1,\n",
        "                                              i.index+4))\n",
        "        count_bonds += 1\n",
        "\n",
        "      \n",
        "        #---------------------\n",
        "        #       Angulos\n",
        "        #---------------------\n",
        "        #ID #Type #H1 #O #H2\n",
        "        a.write(\"\"\"{0} {1} {2} {3} {4}\\n\"\"\".format(count_angles,\n",
        "                                                  2,\n",
        "                                                  i.index+2, \n",
        "                                                  i.index+1,\n",
        "                                                  i.index+3))\n",
        "        count_angles += 1\n",
        "\n",
        "        #ID #Type #H1 #O #H2\n",
        "        a.write(\"\"\"{0} {1} {2} {3} {4}\\n\"\"\".format(count_angles,\n",
        "                                                  2,\n",
        "                                                  i.index+3, \n",
        "                                                  i.index+1,\n",
        "                                                  i.index+4))\n",
        "        count_angles += 1\n",
        "\n",
        "      #-------------------------------\n",
        "      # OH\n",
        "      #-------------------------------\n",
        "      elif i.tag > 2 and i.symbol == \"H\" and i.charge == +0.42381:\n",
        "        atm_type = 10 #H OH \n",
        "      elif i.tag > 2 and i.symbol == \"O\" and i.charge == -0.42381:\n",
        "        atm_type = 11 #O OH \n",
        "\n",
        "        #--------------------------\n",
        "        #     Ligações\n",
        "        #--------------------------\n",
        "        #ID #Type #O #H\n",
        "        b.write(\"\"\"{0} {1} {2} {3}\\n\"\"\".format(count_bonds,\n",
        "                                              3,\n",
        "                                              i.index+1,\n",
        "                                              i.index+2))\n",
        "        count_bonds += 1\n",
        "   \n",
        "      #-----------------------------------\n",
        "      # Escrevendo as coordenadas atomicas\n",
        "      #-----------------------------------\n",
        "      #ID #MOL #ATM #CHARGE #X #Y #Z\n",
        "      c.write(\"\"\"{0} {1} {2} {3} {4} {5} {6}\\n\"\"\".format(i.index+1, \n",
        "                                                         i.tag, \n",
        "                                                         atm_type,\n",
        "                                                         i.charge,\n",
        "                                                         i.position[0],\n",
        "                                                         i.position[1],\n",
        "                                                         i.position[2]))\n",
        " \n",
        "\n",
        "    f.write(\"\"\"#H2O + membranes \\n\\\n",
        "\\n\\\n",
        "{0}   atoms \\n\\\n",
        "{1}   bonds  \\n\\\n",
        "{2}   angles \\n\\\n",
        "\\n\"\"\".format(len(structure),\n",
        "             count_bonds-1,\n",
        "             count_angles-1))\n",
        "    \n",
        "    f.write(\"\"\"11    atom types \\n\\\n",
        "3    bond types \\n\\\n",
        "2    angle types \\n\\\n",
        "\\n\"\"\")\n",
        "    \n",
        "    f.write(\"\"\"0.0 {0} xlo xhi \\n\\\n",
        "0.0 {1} ylo yhi \\n\\\n",
        "{2} {3} zlo zhi \\n\\\n",
        "\\n\"\"\".format(structure.get_cell()[0][0],\n",
        "             structure.get_cell()[1][1],\n",
        "             np.min(structure.get_positions()[:,2]),\n",
        "             np.max(structure.get_positions()[:,2]+100)))\n",
        "    \n",
        "    f.write(\"\"\"Masses \\n\\\n",
        "\\n\\\n",
        "1 26.9815   # Al layer \\n\\\n",
        "2 14.006   # N layer \\n\\\n",
        "3 12.010   # C graphene \\n\\\n",
        "4 22.989   # Na ion \\n\\\n",
        "5 35.453   # Cl ion \\n\\\n",
        "6 1.007    # H H2O \\n\\\n",
        "7 15.999   # O H2O \\n\\\n",
        "8 1.007    # H OH3 \\n\\\n",
        "9 15.999   # O OH3 \\n\\\n",
        "10 1.007    # H OH \\n\\\n",
        "11 15.999   # O OH \\n\\\n",
        "\\n\"\"\")\n",
        "  elif \"Si\" in np.unique(structure.symbols):\n",
        "    for i in structure:\n",
        "\n",
        "      #Selecionando os átomos\n",
        "      if i.tag == 1: #layer\n",
        "        if i.symbol == \"Si\":\n",
        "          atm_type = 1\n",
        "\n",
        "      elif i.tag == 2: #Graphene\n",
        "        atm_type = 2 #C\n",
        "\n",
        "      #Ions\n",
        "      elif i.symbol == \"Na\":\n",
        "        atm_type = 3 #Na\n",
        "      elif i.symbol == \"Cl\":\n",
        "        atm_type = 4 #Cl\n",
        "    \n",
        "      #--------------------------\n",
        "      # H2O\n",
        "      #--------------------------\n",
        "      elif i.tag > 2 and i.symbol == \"H\" and i.charge == 0.4238:\n",
        "        atm_type = 5 #H H2O\n",
        "      elif i.tag > 2 and i.symbol == \"O\" and i.charge == -0.8476:\n",
        "        atm_type = 6 #O H2O\n",
        "\n",
        "        #--------------------------\n",
        "        #     Ligações\n",
        "        #--------------------------\n",
        "            #ID #Type #O #H1\n",
        "        b.write(\"\"\"{0} {1} {2} {3}\\n\"\"\".format(count_bonds,\n",
        "                                              1,\n",
        "                                              i.index+1,\n",
        "                                              i.index+2))\n",
        "        count_bonds += 1\n",
        "      \n",
        "        #ID #Type #O #H2\n",
        "        b.write(\"\"\"{0} {1} {2} {3}\\n\"\"\".format(count_bonds,\n",
        "                                              1,\n",
        "                                              i.index+1,\n",
        "                                              i.index+3))\n",
        "        count_bonds += 1\n",
        "      \n",
        "        #---------------------\n",
        "        #       Angulos\n",
        "        #---------------------\n",
        "        #ID #Type #H1 #O #H2\n",
        "        a.write(\"\"\"{0} {1} {2} {3} {4}\\n\"\"\".format(count_angles,\n",
        "                                                  1,\n",
        "                                                  i.index+2, \n",
        "                                                  i.index+1,\n",
        "                                                  i.index+3))\n",
        "        count_angles += 1\n",
        "\n",
        "\n",
        "      #--------------------------\n",
        "      # OH3\n",
        "      #--------------------------\n",
        "\n",
        "      elif i.tag > 2 and i.symbol == \"H\" and i.charge == 0.29:\n",
        "        atm_type = 7 #H OH3\n",
        "      elif i.tag > 2 and i.symbol == \"O\" and i.charge == -0.87:\n",
        "        atm_type = 8 #O OH3\n",
        "\n",
        "        #--------------------------\n",
        "        #     Ligações\n",
        "        #--------------------------\n",
        "        #ID #Type #O #H1\n",
        "        b.write(\"\"\"{0} {1} {2} {3}\\n\"\"\".format(count_bonds,\n",
        "                                              2,\n",
        "                                              i.index+1,\n",
        "                                              i.index+2))\n",
        "        count_bonds += 1\n",
        "      \n",
        "        #ID #Type #O #H2\n",
        "        b.write(\"\"\"{0} {1} {2} {3}\\n\"\"\".format(count_bonds,\n",
        "                                              2,\n",
        "                                              i.index+1,\n",
        "                                              i.index+3))\n",
        "        count_bonds += 1\n",
        "\n",
        "        #ID #Type #O #H3\n",
        "        b.write(\"\"\"{0} {1} {2} {3}\\n\"\"\".format(count_bonds,\n",
        "                                              2,\n",
        "                                              i.index+1,\n",
        "                                              i.index+4))\n",
        "        count_bonds += 1\n",
        "\n",
        "      \n",
        "        #---------------------\n",
        "        #       Angulos\n",
        "        #---------------------\n",
        "        #ID #Type #H1 #O #H2\n",
        "        a.write(\"\"\"{0} {1} {2} {3} {4}\\n\"\"\".format(count_angles,\n",
        "                                                  2,\n",
        "                                                  i.index+2, \n",
        "                                                  i.index+1,\n",
        "                                                  i.index+3))\n",
        "        count_angles += 1\n",
        "\n",
        "        #ID #Type #H1 #O #H2\n",
        "        a.write(\"\"\"{0} {1} {2} {3} {4}\\n\"\"\".format(count_angles,\n",
        "                                                  2,\n",
        "                                                  i.index+3, \n",
        "                                                  i.index+1,\n",
        "                                                  i.index+4))\n",
        "        count_angles += 1\n",
        "\n",
        "      #-------------------------------\n",
        "      # OH\n",
        "      #-------------------------------\n",
        "      elif i.tag > 2 and i.symbol == \"H\" and i.charge == +0.42381:\n",
        "        atm_type = 9 #H OH \n",
        "      elif i.tag > 2 and i.symbol == \"O\" and i.charge == -0.42381:\n",
        "        atm_type = 10 #O OH \n",
        "\n",
        "        #--------------------------\n",
        "        #     Ligações\n",
        "        #--------------------------\n",
        "        #ID #Type #O #H\n",
        "        b.write(\"\"\"{0} {1} {2} {3}\\n\"\"\".format(count_bonds,\n",
        "                                              3,\n",
        "                                              i.index+1,\n",
        "                                              i.index+2))\n",
        "        count_bonds += 1\n",
        "   \n",
        "      #-----------------------------------\n",
        "      # Escrevendo as coordenadas atomicas\n",
        "      #-----------------------------------\n",
        "      #ID #MOL #ATM #CHARGE #X #Y #Z\n",
        "      c.write(\"\"\"{0} {1} {2} {3} {4} {5} {6}\\n\"\"\".format(i.index+1, \n",
        "                                                         i.tag, \n",
        "                                                         atm_type,\n",
        "                                                         i.charge,\n",
        "                                                         i.position[0],\n",
        "                                                         i.position[1],\n",
        "                                                         i.position[2]))\n",
        " \n",
        "\n",
        "    f.write(\"\"\"#H2O + membranes \\n\\\n",
        "\\n\\\n",
        "{0}   atoms \\n\\\n",
        "{1}   bonds  \\n\\\n",
        "{2}   angles \\n\\\n",
        "\\n\"\"\".format(len(structure),\n",
        "             count_bonds-1,\n",
        "             count_angles-1))\n",
        "    \n",
        "    f.write(\"\"\"10    atom types \\n\\\n",
        "3    bond types \\n\\\n",
        "2    angle types \\n\\\n",
        "\\n\"\"\")\n",
        "    \n",
        "    f.write(\"\"\"0.0 {0} xlo xhi \\n\\\n",
        "0.0 {1} ylo yhi \\n\\\n",
        "{2} {3} zlo zhi \\n\\\n",
        "\\n\"\"\".format(structure.get_cell()[0][0],\n",
        "             structure.get_cell()[1][1],\n",
        "             np.min(structure.get_positions()[:,2]),\n",
        "             np.max(structure.get_positions()[:,2]+100)))\n",
        "    \n",
        "    f.write(\"\"\"Masses \\n\\\n",
        "\\n\\\n",
        "1 28.0855   # Si layer \\n\\\n",
        "2 12.010   # C graphene \\n\\\n",
        "3 22.989   # Na ion \\n\\\n",
        "4 35.453   # Cl ion \\n\\\n",
        "5 1.007    # H H2O \\n\\\n",
        "6 15.999   # O H2O \\n\\\n",
        "7 1.007    # H OH3 \\n\\\n",
        "8 15.999   # O OH3 \\n\\\n",
        "9 1.007    # H OH \\n\\\n",
        "10 15.999   # O OH \\n\\\n",
        "\\n\"\"\")    \n",
        "\n",
        "\n",
        "  #Fechando os arquivos\n",
        "  c.close()\n",
        "  b.close()\n",
        "  a.close()\n",
        "  f.close()\n",
        "\n",
        "  # Copy file to another\n",
        "  with open('coordinates.dat','r') as readfile:\n",
        "    with open('system.data','a') as writefile:\n",
        "      for line in readfile:\n",
        "        writefile.write(line)\n",
        "  \n",
        "  # Copy file to another\n",
        "  with open('bonds.dat','r') as readfile:\n",
        "    with open('system.data','a') as writefile:\n",
        "      for line in readfile:\n",
        "        writefile.write(line)\n",
        "\n",
        "  # Copy file to another\n",
        "  with open('angles.dat','r') as readfile:\n",
        "    with open('system.data','a') as writefile:\n",
        "      for line in readfile:\n",
        "        writefile.write(line)\n",
        "\n",
        "  #Apagando os arquivos auxiliares\n",
        "  !rm bonds.dat\n",
        "  !rm angles.dat\n",
        "  !rm coordinates.dat\n",
        "  print(\"Done system.data\")"
      ],
      "execution_count": null,
      "outputs": []
    },
    {
      "cell_type": "markdown",
      "metadata": {
        "id": "VX8KfoBBnQ-l"
      },
      "source": [
        "### Lammps input"
      ]
    },
    {
      "cell_type": "code",
      "metadata": {
        "colab": {
          "base_uri": "https://localhost:8080/"
        },
        "id": "5n3ZDSmZ7BIA",
        "outputId": "c2edb7f8-1694-4fd9-9b45-f5705224a490"
      },
      "source": [
        "write_lammps(layer)"
      ],
      "execution_count": null,
      "outputs": [
        {
          "output_type": "stream",
          "name": "stdout",
          "text": [
            "Done system.data\n"
          ]
        }
      ]
    },
    {
      "cell_type": "markdown",
      "metadata": {
        "id": "5Eh5QddqrPZW"
      },
      "source": [
        "# SCRATCH"
      ]
    }
  ]
}